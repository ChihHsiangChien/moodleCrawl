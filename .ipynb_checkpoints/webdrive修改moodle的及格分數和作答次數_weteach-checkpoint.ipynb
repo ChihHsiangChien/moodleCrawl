{
 "cells": [
  {
   "cell_type": "code",
   "execution_count": 1,
   "metadata": {
    "ExecuteTime": {
     "end_time": "2019-11-03T02:18:57.656985Z",
     "start_time": "2019-11-03T02:18:57.647742Z"
    }
   },
   "outputs": [],
   "source": [
    "from bs4 import BeautifulSoup\n",
    "from selenium import webdriver\n",
    "from selenium.webdriver.support.ui import WebDriverWait\n",
    "from selenium.webdriver.support import expected_conditions\n",
    "from selenium.webdriver.common.by import By\n",
    "import re\n",
    "from selenium.webdriver.firefox.options import Options\n",
    "from selenium.webdriver.support.ui import Select\n"
   ]
  },
  {
   "cell_type": "code",
   "execution_count": 2,
   "metadata": {
    "ExecuteTime": {
     "end_time": "2019-11-03T02:19:04.129924Z",
     "start_time": "2019-11-03T02:18:58.518827Z"
    }
   },
   "outputs": [],
   "source": [
    "url='https://weteach.edu.tw/my/'\n",
    "\n",
    "options = Options()\n",
    "options.headless = False\n",
    "driverPath = r'C:\\Users\\user\\Documents\\GitHub\\moodleCrawl\\geckodriver.exe'\n",
    "driver = webdriver.Firefox(options=options, executable_path=driverPath)\n",
    "#driver = webdriver.Firefox(executable_path=driverPath)\n",
    "\n",
    "#headless模式\n",
    "#options = webdriver.ChromeOptions()\n",
    "#options.add_argument('--headless')\n",
    "#driver = webdriver.Chrome(options=options, executable_path='chromedriver.exe')\n",
    "#driver = webdriver.Chrome(executable_path='chromedriver.exe')\n",
    "\n",
    "driver.set_page_load_timeout(60)\n",
    "driver.get(url)\n"
   ]
  },
  {
   "cell_type": "code",
   "execution_count": null,
   "metadata": {
    "ExecuteTime": {
     "end_time": "2019-11-03T02:02:40.059643Z",
     "start_time": "2019-11-03T02:02:38.834481Z"
    }
   },
   "outputs": [],
   "source": [
    "#登入moodle\n",
    "username = 'username'\n",
    "password = 'password'\n",
    "element = driver.find_element_by_id('login_username')\n",
    "element.send_keys(username)\n",
    "element = driver.find_element_by_id('login_password')\n",
    "element.send_keys(password)\n",
    "\n",
    "driver.find_element_by_css_selector(\".btn-primary\").click()\n"
   ]
  },
  {
   "cell_type": "code",
   "execution_count": null,
   "metadata": {
    "ExecuteTime": {
     "end_time": "2019-11-03T02:02:41.496256Z",
     "start_time": "2019-11-03T02:02:40.462347Z"
    }
   },
   "outputs": [],
   "source": [
    "#進入課程網址"
   ]
  },
  {
   "cell_type": "code",
   "execution_count": 3,
   "metadata": {
    "ExecuteTime": {
     "end_time": "2019-11-03T02:16:31.003635Z",
     "start_time": "2019-11-03T02:16:24.084797Z"
    }
   },
   "outputs": [
    {
     "name": "stdout",
     "output_type": "stream",
     "text": [
      "葉的構造 測驗卷\n",
      "https://weteach.edu.tw/mod/quiz/view.php?id=43543\n",
      "光合作用 測驗卷\n",
      "https://weteach.edu.tw/mod/quiz/view.php?id=43544\n",
      "光合作用產物的測定實驗 測驗卷\n",
      "https://weteach.edu.tw/mod/quiz/view.php?id=43545\n",
      "消化系統的名稱 測驗卷\n",
      "https://weteach.edu.tw/mod/quiz/view.php?id=43549\n",
      "消化作用 測驗卷\n",
      "https://weteach.edu.tw/mod/quiz/view.php?id=43550\n",
      "消化腺的功能 測驗卷\n",
      "https://weteach.edu.tw/mod/quiz/view.php?id=43551\n",
      "維管束的基本測驗 測驗卷\n",
      "https://weteach.edu.tw/mod/quiz/view.php?id=43556\n",
      "維管束的進階測驗 測驗卷\n",
      "https://weteach.edu.tw/mod/quiz/view.php?id=43557\n",
      "樹皮、木材與年輪 測驗卷\n",
      "https://weteach.edu.tw/mod/quiz/view.php?id=43558\n",
      "根毛、氣孔與蒸散作用 測驗卷\n",
      "https://weteach.edu.tw/mod/quiz/view.php?id=43561\n",
      "光合作用的原料產物運輸儲存問題 測驗卷\n",
      "https://weteach.edu.tw/mod/quiz/view.php?id=43562\n",
      "血液的組成與功能 測驗卷\n",
      "https://weteach.edu.tw/mod/quiz/view.php?id=43583\n",
      "血管的功能與比較 測驗卷\n",
      "https://weteach.edu.tw/mod/quiz/view.php?id=43584\n",
      "心臟的構造認識 測驗卷\n",
      "https://weteach.edu.tw/mod/quiz/view.php?id=43585\n",
      "血液循環途徑 測驗卷\n",
      "https://weteach.edu.tw/mod/quiz/view.php?id=43586\n",
      "物質交換與充氧血減氧血 測驗卷\n",
      "https://weteach.edu.tw/mod/quiz/view.php?id=43587\n",
      "開放式與閉鎖式循環 測驗卷\n",
      "https://weteach.edu.tw/mod/quiz/view.php?id=43588\n",
      "淋巴循環 測驗卷\n",
      "https://weteach.edu.tw/mod/quiz/view.php?id=43589\n",
      "人體的防禦作用-免疫 測驗卷\n",
      "https://weteach.edu.tw/mod/quiz/view.php?id=43593\n"
     ]
    }
   ],
   "source": [
    "#取得測驗的連結\n",
    "id = 1735\n",
    "#https://weteach.edu.tw/course/view.php?id=1735\n",
    "courseurl = 'http://weteach.edu.tw/course/view.php?'\n",
    "quizname=[]\n",
    "quizurl=[]\n",
    "for i in range(7):\n",
    "    url = courseurl + 'id='+str(id) +'&section='+str(i+1)\n",
    "    driver.get(url)\n",
    "    #取得各section原始碼\n",
    "    htmltext = driver.page_source\n",
    "\n",
    "    soup=BeautifulSoup(htmltext,\"html.parser\")\n",
    "    \n",
    "    #搜尋所有含quiz的連結\n",
    "    links = soup.find_all('a',{'href':re.compile('quiz')})\n",
    "    for link in links:\n",
    "\n",
    "        #取得href屬性前先檢查是否存在\n",
    "        if 'href' in link.attrs:\n",
    "            href = link['href']\n",
    "            print(link.text)\n",
    "            print(href)\n",
    "            quizname.append(link.text)\n",
    "            quizurl.append(href)\n",
    "        else:\n",
    "            href = None"
   ]
  },
  {
   "cell_type": "code",
   "execution_count": 4,
   "metadata": {
    "ExecuteTime": {
     "end_time": "2019-11-03T02:17:08.668653Z",
     "start_time": "2019-11-03T02:17:08.653446Z"
    }
   },
   "outputs": [
    {
     "data": {
      "text/plain": [
       "['43543',\n",
       " '43544',\n",
       " '43545',\n",
       " '43549',\n",
       " '43550',\n",
       " '43551',\n",
       " '43556',\n",
       " '43557',\n",
       " '43558',\n",
       " '43561',\n",
       " '43562',\n",
       " '43583',\n",
       " '43584',\n",
       " '43585',\n",
       " '43586',\n",
       " '43587',\n",
       " '43588',\n",
       " '43589',\n",
       " '43593']"
      ]
     },
     "execution_count": 4,
     "metadata": {},
     "output_type": "execute_result"
    }
   ],
   "source": [
    "#從url找id\n",
    "quizid=[]\n",
    "for quiz in quizurl:\n",
    "    k = re.search(r'id=(.*)$', quiz)\n",
    "    quizid.append(k.group(1))\n",
    "quizid"
   ]
  },
  {
   "cell_type": "code",
   "execution_count": 6,
   "metadata": {
    "ExecuteTime": {
     "end_time": "2019-11-03T02:18:15.422861Z",
     "start_time": "2019-11-03T02:17:45.530709Z"
    }
   },
   "outputs": [
    {
     "name": "stdout",
     "output_type": "stream",
     "text": [
      "done:複式顯微鏡與解剖顯微鏡的比較 測驗卷\n",
      "https://weteach.edu.tw/course/modedit.php?update=43504&return=1\n",
      "1/23\n",
      "========\n",
      "done:解剖顯微鏡構造填圖 測驗卷\n",
      "https://weteach.edu.tw/course/modedit.php?update=43490&return=1\n",
      "2/23\n",
      "========\n",
      "done:解剖顯微鏡的使用 測驗卷\n",
      "https://weteach.edu.tw/course/modedit.php?update=43491&return=1\n",
      "3/23\n",
      "========\n",
      "done:複式顯微鏡的使用 測驗卷\n",
      "https://weteach.edu.tw/course/modedit.php?update=43494&return=1\n",
      "4/23\n",
      "========\n",
      "done:複式顯微鏡的倍率亮度與視野問題 測驗卷\n",
      "https://weteach.edu.tw/course/modedit.php?update=43505&return=1\n",
      "5/23\n",
      "========\n",
      "done:顯微鏡的使用 測驗卷\n",
      "https://weteach.edu.tw/course/modedit.php?update=43506&return=1\n",
      "6/23\n",
      "========\n",
      "done:玻片標本製作 測驗卷\n",
      "https://weteach.edu.tw/course/modedit.php?update=43510&return=1\n",
      "7/23\n",
      "========\n",
      "done:生命現象(1) 測驗卷\n",
      "https://weteach.edu.tw/course/modedit.php?update=43513&return=1\n",
      "8/23\n",
      "========\n",
      "done:生命現象(2) 測驗卷\n",
      "https://weteach.edu.tw/course/modedit.php?update=43514&return=1\n",
      "9/23\n",
      "========\n",
      "done:動植物細胞填圖 測驗卷\n",
      "https://weteach.edu.tw/course/modedit.php?update=43515&return=1\n",
      "10/23\n",
      "========\n",
      "done:細胞構造的功能和名稱配對 測驗卷\n",
      "https://weteach.edu.tw/course/modedit.php?update=43516&return=1\n",
      "11/23\n",
      "========\n",
      "done:細胞構造的名稱和功能配對 測驗卷\n",
      "https://weteach.edu.tw/course/modedit.php?update=43517&return=1\n",
      "12/23\n",
      "========\n",
      "done:細胞的構造與生命現象(1) 測驗卷\n",
      "https://weteach.edu.tw/course/modedit.php?update=43518&return=1\n",
      "13/23\n",
      "========\n",
      "done:細胞的構造與生命現象(2) 測驗卷\n",
      "https://weteach.edu.tw/course/modedit.php?update=43519&return=1\n",
      "14/23\n",
      "========\n",
      "done:物質進出細胞的練習 測驗卷\n",
      "https://weteach.edu.tw/course/modedit.php?update=43522&return=1\n",
      "15/23\n",
      "========\n",
      "done:物質進出細胞(1) 測驗卷\n",
      "https://weteach.edu.tw/course/modedit.php?update=43523&return=1\n",
      "16/23\n",
      "========\n",
      "done:物質進出細胞(2) 測驗卷\n",
      "https://weteach.edu.tw/course/modedit.php?update=43524&return=1\n",
      "17/23\n",
      "========\n",
      "done:生物體的組成層次(1) 測驗卷\n",
      "https://weteach.edu.tw/course/modedit.php?update=43530&return=1\n",
      "18/23\n",
      "========\n",
      "done:生物體的組成層次(2) 測驗卷\n",
      "https://weteach.edu.tw/course/modedit.php?update=43531&return=1\n",
      "19/23\n",
      "========\n",
      "done:食物中的養分 測驗卷\n",
      "https://weteach.edu.tw/course/modedit.php?update=43533&return=1\n",
      "20/23\n",
      "========\n",
      "done:養分的測定 測驗卷\n",
      "https://weteach.edu.tw/course/modedit.php?update=43537&return=1\n",
      "21/23\n",
      "========\n",
      "done:酵素 測驗卷\n",
      "https://weteach.edu.tw/course/modedit.php?update=43539&return=1\n",
      "22/23\n",
      "========\n",
      "done:酵素活性的測定實驗 測驗卷\n",
      "https://weteach.edu.tw/course/modedit.php?update=43541&return=1\n",
      "23/23\n",
      "========\n"
     ]
    }
   ],
   "source": [
    "#進入試卷編修網址\n",
    "                        #https://weteach.edu.tw/course/modedit.php?update=43489&return=0&sr=0\n",
    "quizurlBase = 'https://weteach.edu.tw/course/modedit.php?update='\n",
    "n = 0\n",
    "\n",
    "\n",
    "\n",
    "gradecat = '2074'\n",
    "#2074:A1 2065:A2 2067:A3 2072:B1 2070:B2  2069:B3\n",
    "gradepass = 100  #及格分數\n",
    "attempts = 2    #可測驗次數\n",
    "grademethod = '1' \n",
    "#1:最高分數 2:平均分數 3:第一次作答  4:最後一次作答\n",
    "for i in quizid:\n",
    "    quizurl = quizurlBase+str(i)+'&return=1'\n",
    "    \n",
    "    driver.get(quizurl)\n",
    "\n",
    "    #展開全部\n",
    "    driver.find_element_by_css_selector('.collapseexpand').click()\n",
    "\n",
    "    #修改及格分數\n",
    "    element =  driver.find_element_by_id('id_gradepass')\n",
    "    element.clear()\n",
    "    element.send_keys(gradepass)\n",
    "\n",
    "    \n",
    "    s1 = Select(driver.find_element_by_id('id_gradecat'))\n",
    "    s1.select_by_value(gradecat)\n",
    "   \n",
    "    \n",
    "    #修改允許作答次數\n",
    "    #搜尋作答次數的選單並點擊\n",
    "    element = driver.find_element_by_id('id_attempts')\n",
    "    element.click()\n",
    "    element.send_keys(attempts)\n",
    "    \n",
    "    \n",
    "    #修改評分方式\n",
    "    s1 = Select(driver.find_element_by_id('id_grademethod'))\n",
    "    s1.select_by_value(grademethod)\n",
    "    \n",
    "    \n",
    "    #解開完成進度的選項\n",
    "    #還沒有人作答時，此項須註解。等到有人作答後，才可以找到這個element\n",
    "    driver.find_element_by_id('id_unlockcompletion').click()\n",
    "    \n",
    "    #需要及格分數\n",
    "    element = driver.find_element_by_id('id_completionpass')\n",
    "    element.click()\n",
    "\n",
    "    #儲存並顯示\n",
    "    driver.find_element_by_id('id_submitbutton2').click()\n",
    "    print('done:' + quizname[n])\n",
    "    print(quizurl)\n",
    "    n = n+1\n",
    "    print(str(n)+\"/\"+str(len(quizid)))\n",
    "    print('========')\n"
   ]
  },
  {
   "cell_type": "markdown",
   "metadata": {},
   "source": [
    "## 以下是測試區"
   ]
  },
  {
   "cell_type": "code",
   "execution_count": 28,
   "metadata": {},
   "outputs": [
    {
     "name": "stdout",
     "output_type": "stream",
     "text": [
      "done\n"
     ]
    }
   ],
   "source": [
    "#處理單一連結的測試區\n",
    "\n",
    "#進入試卷編修網址\n",
    "url = 'https://weteach.edu.tw/course/modedit.php?update=43593'\n",
    "driver.get(url)\n",
    "\n",
    "#element = WebDriverWait(driver,3).until(expected_conditions.presence_of_element_located((By.ID,'id_gradepass')))\n",
    "#element = driver.find_element_by_name('gradepass')\n",
    "\n",
    "#展開全部\n",
    "driver.find_element_by_css_selector('.collapseexpand').click()\n",
    "\n",
    "#修改及格分數\n",
    "element =  driver.find_element_by_id('id_gradepass')\n",
    "element.clear()\n",
    "element.send_keys('100')\n",
    "\n",
    "#修改允許作答次數\n",
    "#搜尋作答次數的選單並點擊\n",
    "element = driver.find_element_by_id('id_attempts')\n",
    "element.click()\n",
    "element.send_keys('7')\n",
    "\n",
    "#for option in driver.find_elements_by_tag_name('option'):\n",
    "    #if option.text == '3':\n",
    "    #    option.click()\n",
    "\n",
    "grademethod = '2'\n",
    "#修改評分方式\n",
    "s1 = Select(driver.find_element_by_id('id_grademethod'))\n",
    "s1.select_by_value(grademethod)\n",
    "\n",
    "#element = driver.find_element_by_id('id_grademethod')\n",
    "#element.click()\n",
    "#element.send_keys( grademethod )\n",
    "\n",
    "#解開完成進度的選項\n",
    "driver.find_element_by_id('id_unlockcompletion').click()\n",
    "\n",
    "\n",
    "#儲存並顯示\n",
    "driver.find_element_by_id('id_submitbutton2').click()\n",
    "print('done')\n",
    "#element = driver.find_element_by_xpath('//*[@id=\"id_gradepass\"]')\n",
    "\n",
    "\n",
    "#finally:\n",
    "    #driver.quit()\n"
   ]
  },
  {
   "cell_type": "code",
   "execution_count": 9,
   "metadata": {},
   "outputs": [
    {
     "name": "stdout",
     "output_type": "stream",
     "text": [
      "checked\n"
     ]
    }
   ],
   "source": [
    "#進入試卷編修網址\n",
    "url = 'https://weteach.edu.tw/course/modedit.php?update=43593'\n",
    "driver.get(url)\n",
    "\n",
    "#element = WebDriverWait(driver,3).until(expected_conditions.presence_of_element_located((By.ID,'id_gradepass')))\n",
    "#element = driver.find_element_by_name('gradepass')\n",
    "\n",
    "#展開全部\n",
    "driver.find_element_by_css_selector('.collapseexpand').click()\n",
    "\n",
    "#解開完成進度的選項\n",
    "driver.find_element_by_id('id_unlockcompletion').click()\n",
    "\n",
    "\n",
    "#檢查是否勾選「需要及格分數」\n",
    "element = driver.find_element_by_id('id_completionpass')\n",
    "if element.get_attribute('checked') :\n",
    "    #如果有勾選，就按一下，讓它取消勾選\n",
    "    element.click()\n",
    "    print('checked-->unchecked')\n",
    "else:\n",
    "    print('unchecked')"
   ]
  },
  {
   "cell_type": "code",
   "execution_count": null,
   "metadata": {},
   "outputs": [],
   "source": []
  }
 ],
 "metadata": {
  "kernelspec": {
   "display_name": "Python 3",
   "language": "python",
   "name": "python3"
  },
  "language_info": {
   "codemirror_mode": {
    "name": "ipython",
    "version": 3
   },
   "file_extension": ".py",
   "mimetype": "text/x-python",
   "name": "python",
   "nbconvert_exporter": "python",
   "pygments_lexer": "ipython3",
   "version": "3.7.3"
  }
 },
 "nbformat": 4,
 "nbformat_minor": 2
}
