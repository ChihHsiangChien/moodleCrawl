{
 "cells": [
  {
   "cell_type": "code",
   "execution_count": 19,
   "metadata": {
    "ExecuteTime": {
     "end_time": "2019-11-03T02:18:57.656985Z",
     "start_time": "2019-11-03T02:18:57.647742Z"
    }
   },
   "outputs": [],
   "source": [
    "from bs4 import BeautifulSoup\n",
    "from selenium import webdriver\n",
    "from selenium.webdriver.support.ui import WebDriverWait\n",
    "from selenium.webdriver.support import expected_conditions\n",
    "from selenium.webdriver.common.by import By\n",
    "import re\n",
    "from selenium.webdriver.firefox.options import Options\n",
    "from selenium.webdriver.support.ui import Select\n",
    "from selenium.webdriver.chrome.service import Service\n"
   ]
  },
  {
   "cell_type": "code",
   "execution_count": 22,
   "metadata": {
    "ExecuteTime": {
     "end_time": "2019-11-03T02:19:04.129924Z",
     "start_time": "2019-11-03T02:18:58.518827Z"
    }
   },
   "outputs": [],
   "source": [
    "url='https://weteach.edu.tw/my/'\n",
    "\n",
    "options = Options()\n",
    "options.binary_location = r'C:\\Program Files\\Mozilla Firefox\\firefox.exe'\n",
    "options.headless = False\n",
    "\n",
    "\n",
    "#driverPath = r'/media/pancala/3T/code/moodleCrawl/geckodriver'\n",
    "s = Service(r\"C:\\Users\\user\\Documents\\GitHub\\moodleCrawl\\geckodriver.exe\")\n",
    "\n",
    "driver = webdriver.Firefox(options=options, service = s)\n",
    "\n",
    "'''\n",
    "舊的寫法\n",
    "driverPath = r'C:\\Users\\user\\Documents\\GitHub\\moodleCrawl\\geckodriver.exe'\n",
    "driver = webdriver.Firefox(options=options, executable_path=driverPath)\n",
    "'''\n",
    "\n",
    "#headless模式\n",
    "#options = webdriver.ChromeOptions()\n",
    "#options.add_argument('--headless')\n",
    "#driver = webdriver.Chrome(options=options, executable_path='chromedriver.exe')\n",
    "#driver = webdriver.Chrome(executable_path='chromedriver.exe')\n",
    "\n",
    "driver.set_page_load_timeout(60)\n",
    "driver.get(url)\n"
   ]
  },
  {
   "cell_type": "code",
   "execution_count": null,
   "metadata": {
    "ExecuteTime": {
     "end_time": "2019-11-03T02:02:40.059643Z",
     "start_time": "2019-11-03T02:02:38.834481Z"
    }
   },
   "outputs": [],
   "source": [
    "#登入moodle\n",
    "'''\n",
    "username = 'username'\n",
    "password = 'password'\n",
    "element = driver.find_element_by_id('login_username')\n",
    "element.send_keys(username)\n",
    "element = driver.find_element_by_id('login_password')\n",
    "element.send_keys(password)\n",
    "\n",
    "driver.find_element_by_css_selector(\".btn-primary\").click()\n",
    "'''"
   ]
  },
  {
   "cell_type": "code",
   "execution_count": null,
   "metadata": {
    "ExecuteTime": {
     "end_time": "2019-11-03T02:02:41.496256Z",
     "start_time": "2019-11-03T02:02:40.462347Z"
    }
   },
   "outputs": [],
   "source": [
    "#進入課程網址"
   ]
  },
  {
   "cell_type": "code",
   "execution_count": 23,
   "metadata": {
    "ExecuteTime": {
     "end_time": "2019-11-03T02:16:31.003635Z",
     "start_time": "2019-11-03T02:16:24.084797Z"
    }
   },
   "outputs": [
    {
     "name": "stdout",
     "output_type": "stream",
     "text": [
      "酵素 測驗卷\n",
      "https://weteach.edu.tw/mod/quiz/view.php?id=43539\n",
      "酵素活性的測定實驗 測驗卷\n",
      "https://weteach.edu.tw/mod/quiz/view.php?id=43541\n",
      "葉的構造 測驗卷\n",
      "https://weteach.edu.tw/mod/quiz/view.php?id=43543\n",
      "光合作用 測驗卷\n",
      "https://weteach.edu.tw/mod/quiz/view.php?id=43544\n",
      "光合作用產物的測定實驗 測驗卷\n",
      "https://weteach.edu.tw/mod/quiz/view.php?id=43545\n",
      "消化系統的名稱 測驗卷\n",
      "https://weteach.edu.tw/mod/quiz/view.php?id=43549\n",
      "消化作用 測驗卷\n",
      "https://weteach.edu.tw/mod/quiz/view.php?id=43550\n",
      "消化腺的功能 測驗卷\n",
      "https://weteach.edu.tw/mod/quiz/view.php?id=43551\n",
      "維管束的基本測驗 測驗卷\n",
      "https://weteach.edu.tw/mod/quiz/view.php?id=43556\n",
      "維管束的進階測驗 測驗卷\n",
      "https://weteach.edu.tw/mod/quiz/view.php?id=43557\n",
      "樹皮、木材與年輪 測驗卷\n",
      "https://weteach.edu.tw/mod/quiz/view.php?id=43558\n",
      "根毛、氣孔與蒸散作用 測驗卷\n",
      "https://weteach.edu.tw/mod/quiz/view.php?id=43561\n",
      "光合作用的原料產物運輸儲存問題 測驗卷\n",
      "https://weteach.edu.tw/mod/quiz/view.php?id=43562\n",
      "血液的組成與功能 測驗卷\n",
      "https://weteach.edu.tw/mod/quiz/view.php?id=43583\n",
      "血管的功能與比較 測驗卷\n",
      "https://weteach.edu.tw/mod/quiz/view.php?id=43584\n",
      "心臟的構造認識 測驗卷\n",
      "https://weteach.edu.tw/mod/quiz/view.php?id=43585\n",
      "血液循環途徑 測驗卷\n",
      "https://weteach.edu.tw/mod/quiz/view.php?id=43586\n",
      "物質交換與充氧血減氧血 測驗卷\n",
      "https://weteach.edu.tw/mod/quiz/view.php?id=43587\n",
      "開放式與閉鎖式循環 測驗卷\n",
      "https://weteach.edu.tw/mod/quiz/view.php?id=43588\n",
      "淋巴循環 測驗卷\n",
      "https://weteach.edu.tw/mod/quiz/view.php?id=43589\n",
      "人體的防禦作用-免疫 測驗卷\n",
      "https://weteach.edu.tw/mod/quiz/view.php?id=43593\n"
     ]
    }
   ],
   "source": [
    "#取得測驗的連結\n",
    "id = 1735\n",
    "#https://weteach.edu.tw/course/view.php?id=1735\n",
    "courseurl = 'http://weteach.edu.tw/course/view.php?'\n",
    "quizname=[]\n",
    "quizurl=[]\n",
    "for i in range(7):\n",
    "    url = courseurl + 'id='+str(id) +'&section='+str(i+1)\n",
    "    driver.get(url)\n",
    "    #取得各section原始碼\n",
    "    htmltext = driver.page_source\n",
    "\n",
    "    soup=BeautifulSoup(htmltext,\"html.parser\")\n",
    "    \n",
    "    #搜尋所有含quiz的連結\n",
    "    links = soup.find_all('a',{'href':re.compile('quiz')})\n",
    "    for link in links:\n",
    "\n",
    "        #取得href屬性前先檢查是否存在\n",
    "        if 'href' in link.attrs:\n",
    "            href = link['href']\n",
    "            print(link.text)\n",
    "            print(href)\n",
    "            quizname.append(link.text)\n",
    "            quizurl.append(href)\n",
    "        else:\n",
    "            href = None"
   ]
  },
  {
   "cell_type": "code",
   "execution_count": 24,
   "metadata": {
    "ExecuteTime": {
     "end_time": "2019-11-03T02:17:08.668653Z",
     "start_time": "2019-11-03T02:17:08.653446Z"
    }
   },
   "outputs": [
    {
     "data": {
      "text/plain": [
       "['43539',\n",
       " '43541',\n",
       " '43543',\n",
       " '43544',\n",
       " '43545',\n",
       " '43549',\n",
       " '43550',\n",
       " '43551',\n",
       " '43556',\n",
       " '43557',\n",
       " '43558',\n",
       " '43561',\n",
       " '43562',\n",
       " '43583',\n",
       " '43584',\n",
       " '43585',\n",
       " '43586',\n",
       " '43587',\n",
       " '43588',\n",
       " '43589',\n",
       " '43593']"
      ]
     },
     "execution_count": 24,
     "metadata": {},
     "output_type": "execute_result"
    }
   ],
   "source": [
    "#從url找id\n",
    "quizid=[]\n",
    "for quiz in quizurl:\n",
    "    k = re.search(r'id=(.*)$', quiz)\n",
    "    quizid.append(k.group(1))\n",
    "quizid"
   ]
  },
  {
   "cell_type": "code",
   "execution_count": 31,
   "metadata": {
    "ExecuteTime": {
     "end_time": "2019-11-03T02:18:15.422861Z",
     "start_time": "2019-11-03T02:17:45.530709Z"
    }
   },
   "outputs": [
    {
     "name": "stdout",
     "output_type": "stream",
     "text": [
      "unchecked\n",
      "done:酵素 測驗卷\n",
      "https://weteach.edu.tw/course/modedit.php?update=43539&return=1\n",
      "1/21\n",
      "========\n",
      "unchecked\n",
      "done:酵素活性的測定實驗 測驗卷\n",
      "https://weteach.edu.tw/course/modedit.php?update=43541&return=1\n",
      "2/21\n",
      "========\n",
      "unchecked\n",
      "done:葉的構造 測驗卷\n",
      "https://weteach.edu.tw/course/modedit.php?update=43543&return=1\n",
      "3/21\n",
      "========\n",
      "unchecked\n",
      "done:光合作用 測驗卷\n",
      "https://weteach.edu.tw/course/modedit.php?update=43544&return=1\n",
      "4/21\n",
      "========\n",
      "unchecked\n",
      "done:光合作用產物的測定實驗 測驗卷\n",
      "https://weteach.edu.tw/course/modedit.php?update=43545&return=1\n",
      "5/21\n",
      "========\n",
      "unchecked\n",
      "done:消化系統的名稱 測驗卷\n",
      "https://weteach.edu.tw/course/modedit.php?update=43549&return=1\n",
      "6/21\n",
      "========\n",
      "unchecked\n",
      "done:消化作用 測驗卷\n",
      "https://weteach.edu.tw/course/modedit.php?update=43550&return=1\n",
      "7/21\n",
      "========\n",
      "unchecked\n",
      "done:消化腺的功能 測驗卷\n",
      "https://weteach.edu.tw/course/modedit.php?update=43551&return=1\n",
      "8/21\n",
      "========\n",
      "unchecked\n",
      "done:維管束的基本測驗 測驗卷\n",
      "https://weteach.edu.tw/course/modedit.php?update=43556&return=1\n",
      "9/21\n",
      "========\n",
      "unchecked\n",
      "done:維管束的進階測驗 測驗卷\n",
      "https://weteach.edu.tw/course/modedit.php?update=43557&return=1\n",
      "10/21\n",
      "========\n",
      "unchecked\n",
      "done:樹皮、木材與年輪 測驗卷\n",
      "https://weteach.edu.tw/course/modedit.php?update=43558&return=1\n",
      "11/21\n",
      "========\n",
      "unchecked\n",
      "done:根毛、氣孔與蒸散作用 測驗卷\n",
      "https://weteach.edu.tw/course/modedit.php?update=43561&return=1\n",
      "12/21\n",
      "========\n",
      "unchecked\n",
      "done:光合作用的原料產物運輸儲存問題 測驗卷\n",
      "https://weteach.edu.tw/course/modedit.php?update=43562&return=1\n",
      "13/21\n",
      "========\n",
      "unchecked\n",
      "done:血液的組成與功能 測驗卷\n",
      "https://weteach.edu.tw/course/modedit.php?update=43583&return=1\n",
      "14/21\n",
      "========\n",
      "unchecked\n",
      "done:血管的功能與比較 測驗卷\n",
      "https://weteach.edu.tw/course/modedit.php?update=43584&return=1\n",
      "15/21\n",
      "========\n",
      "unchecked\n",
      "done:心臟的構造認識 測驗卷\n",
      "https://weteach.edu.tw/course/modedit.php?update=43585&return=1\n",
      "16/21\n",
      "========\n",
      "unchecked\n",
      "done:血液循環途徑 測驗卷\n",
      "https://weteach.edu.tw/course/modedit.php?update=43586&return=1\n",
      "17/21\n",
      "========\n",
      "unchecked\n",
      "done:物質交換與充氧血減氧血 測驗卷\n",
      "https://weteach.edu.tw/course/modedit.php?update=43587&return=1\n",
      "18/21\n",
      "========\n",
      "unchecked\n",
      "done:開放式與閉鎖式循環 測驗卷\n",
      "https://weteach.edu.tw/course/modedit.php?update=43588&return=1\n",
      "19/21\n",
      "========\n",
      "unchecked\n",
      "done:淋巴循環 測驗卷\n",
      "https://weteach.edu.tw/course/modedit.php?update=43589&return=1\n",
      "20/21\n",
      "========\n",
      "unchecked\n",
      "done:人體的防禦作用-免疫 測驗卷\n",
      "https://weteach.edu.tw/course/modedit.php?update=43593&return=1\n",
      "21/21\n",
      "========\n"
     ]
    }
   ],
   "source": [
    "#進入試卷編修網址\n",
    "                        #https://weteach.edu.tw/course/modedit.php?update=43489&return=0&sr=0\n",
    "quizurlBase = 'https://weteach.edu.tw/course/modedit.php?update='\n",
    "n = 0\n",
    "\n",
    "\n",
    "\n",
    "gradecat = '2065'\n",
    "#2074:A1 2065:A2 2067:A3 2072:B1 2070:B2  2069:B3\n",
    "gradepass = 80  #及格分數\n",
    "attempts = 2    #可測驗次數\n",
    "grademethod = '1' \n",
    "#1:最高分數 2:平均分數 3:第一次作答  4:最後一次作答\n",
    "for i in quizid:\n",
    "    quizurl = quizurlBase+str(i)+'&return=1'\n",
    "    \n",
    "    driver.get(quizurl)\n",
    "\n",
    "    #展開全部\n",
    "    driver.find_element(By.CSS_SELECTOR,'.collapseexpand').click()\n",
    "\n",
    "    #修改及格分數\n",
    "    element =  driver.find_element(By.ID,'id_gradepass')\n",
    "    element.clear()\n",
    "    element.send_keys(gradepass)\n",
    "\n",
    "    \n",
    "    s1 = Select(driver.find_element(By.ID,'id_gradecat'))\n",
    "    s1.select_by_value(gradecat)\n",
    "   \n",
    "    \n",
    "    #修改允許作答次數\n",
    "    #搜尋作答次數的選單並點擊\n",
    "    element = driver.find_element(By.ID,'id_attempts')\n",
    "    element.click()\n",
    "    element.send_keys(\"無限制\")\n",
    "    element.send_keys(attempts)    \n",
    "    \n",
    "    #修改評分方式\n",
    "    s1 = Select(driver.find_element(By.ID,'id_grademethod'))\n",
    "    s1.select_by_value(grademethod)\n",
    "    \n",
    "    \n",
    "    #解開完成進度的選項\n",
    "    #還沒有人作答時，此項須註解。等到有人作答後，才可以找到這個element\n",
    "    #driver.find_element_by_id('id_unlockcompletion').click()\n",
    "      \n",
    "    #檢查是否勾選「需要及格分數」\n",
    "    element = driver.find_element(By.ID,'id_completionpass')\n",
    "    if element.get_attribute('checked') :\n",
    "        #如果有勾選，就按一下，讓它取消勾選\n",
    "        element.click()\n",
    "        print('checked-->unchecked')\n",
    "    else:\n",
    "        print('unchecked')\n",
    "    \n",
    "    \n",
    "\n",
    "    #儲存並顯示\n",
    "    driver.find_element(By.ID,'id_submitbutton2').click()\n",
    "    print('done:' + quizname[n])\n",
    "    print(quizurl)\n",
    "    n = n+1\n",
    "    print(str(n)+\"/\"+str(len(quizid)))\n",
    "    print('========')\n"
   ]
  },
  {
   "cell_type": "markdown",
   "metadata": {},
   "source": [
    "## 以下是測試區"
   ]
  },
  {
   "cell_type": "code",
   "execution_count": 28,
   "metadata": {},
   "outputs": [
    {
     "name": "stdout",
     "output_type": "stream",
     "text": [
      "done\n"
     ]
    }
   ],
   "source": [
    "#處理單一連結的測試區\n",
    "\n",
    "#進入試卷編修網址\n",
    "url = 'https://weteach.edu.tw/course/modedit.php?update=43593'\n",
    "driver.get(url)\n",
    "\n",
    "#element = WebDriverWait(driver,3).until(expected_conditions.presence_of_element_located((By.ID,'id_gradepass')))\n",
    "#element = driver.find_element_by_name('gradepass')\n",
    "\n",
    "#展開全部\n",
    "driver.find_element_by_css_selector('.collapseexpand').click()\n",
    "\n",
    "#修改及格分數\n",
    "element =  driver.find_element_by_id('id_gradepass')\n",
    "element.clear()\n",
    "element.send_keys('100')\n",
    "\n",
    "#修改允許作答次數\n",
    "#搜尋作答次數的選單並點擊\n",
    "element = driver.find_element_by_id('id_attempts')\n",
    "element.click()\n",
    "element.send_keys('7')\n",
    "\n",
    "#for option in driver.find_elements_by_tag_name('option'):\n",
    "    #if option.text == '3':\n",
    "    #    option.click()\n",
    "\n",
    "grademethod = '2'\n",
    "#修改評分方式\n",
    "s1 = Select(driver.find_element_by_id('id_grademethod'))\n",
    "s1.select_by_value(grademethod)\n",
    "\n",
    "#element = driver.find_element_by_id('id_grademethod')\n",
    "#element.click()\n",
    "#element.send_keys( grademethod )\n",
    "\n",
    "#解開完成進度的選項\n",
    "driver.find_element_by_id('id_unlockcompletion').click()\n",
    "\n",
    "\n",
    "#儲存並顯示\n",
    "driver.find_element_by_id('id_submitbutton2').click()\n",
    "print('done')\n",
    "#element = driver.find_element_by_xpath('//*[@id=\"id_gradepass\"]')\n",
    "\n",
    "\n",
    "#finally:\n",
    "    #driver.quit()\n"
   ]
  },
  {
   "cell_type": "code",
   "execution_count": 9,
   "metadata": {},
   "outputs": [
    {
     "name": "stdout",
     "output_type": "stream",
     "text": [
      "checked\n"
     ]
    }
   ],
   "source": [
    "#進入試卷編修網址\n",
    "url = 'https://weteach.edu.tw/course/modedit.php?update=43593'\n",
    "driver.get(url)\n",
    "\n",
    "#element = WebDriverWait(driver,3).until(expected_conditions.presence_of_element_located((By.ID,'id_gradepass')))\n",
    "#element = driver.find_element_by_name('gradepass')\n",
    "\n",
    "#展開全部\n",
    "driver.find_element_by_css_selector('.collapseexpand').click()\n",
    "\n",
    "#解開完成進度的選項\n",
    "driver.find_element_by_id('id_unlockcompletion').click()\n",
    "\n",
    "\n",
    "#檢查是否勾選「需要及格分數」\n",
    "element = driver.find_element_by_id('id_completionpass')\n",
    "if element.get_attribute('checked') :\n",
    "    #如果有勾選，就按一下，讓它取消勾選\n",
    "    element.click()\n",
    "    print('checked-->unchecked')\n",
    "else:\n",
    "    print('unchecked')"
   ]
  },
  {
   "cell_type": "code",
   "execution_count": null,
   "metadata": {},
   "outputs": [],
   "source": []
  }
 ],
 "metadata": {
  "kernelspec": {
   "display_name": "Python 3 (ipykernel)",
   "language": "python",
   "name": "python3"
  },
  "language_info": {
   "codemirror_mode": {
    "name": "ipython",
    "version": 3
   },
   "file_extension": ".py",
   "mimetype": "text/x-python",
   "name": "python",
   "nbconvert_exporter": "python",
   "pygments_lexer": "ipython3",
   "version": "3.9.13"
  }
 },
 "nbformat": 4,
 "nbformat_minor": 2
}
