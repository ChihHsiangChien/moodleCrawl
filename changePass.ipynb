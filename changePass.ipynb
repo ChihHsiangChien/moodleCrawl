{
 "cells": [
  {
   "cell_type": "code",
   "execution_count": 1,
   "metadata": {
    "ExecuteTime": {
     "end_time": "2019-09-29T02:00:38.910197Z",
     "start_time": "2019-09-29T02:00:38.572255Z"
    }
   },
   "outputs": [],
   "source": [
    "import requests\n",
    "import re\n",
    "import time\n",
    "import datetime\n",
    "from bs4 import BeautifulSoup"
   ]
  },
  {
   "cell_type": "code",
   "execution_count": 37,
   "metadata": {
    "ExecuteTime": {
     "end_time": "2019-09-29T02:56:12.971506Z",
     "start_time": "2019-09-29T02:56:12.382388Z"
    }
   },
   "outputs": [
    {
     "name": "stdout",
     "output_type": "stream",
     "text": [
      "{'MoodleSession': 'gt2dhvr0r5mblp2cckdlho99v3'}\n"
     ]
    }
   ],
   "source": [
    "#登入moodle\n",
    "payload={\n",
    "    'username':'khjht230',\n",
    "    'password':'star0210'\n",
    "}\n",
    "rs =requests.session()\n",
    "res=rs.post(\"http://ido.khjh.hc.edu.tw/moodle/login/index.php\",data=payload)\n",
    "cookies = rs.cookies.get_dict()\n",
    "print(cookies)"
   ]
  },
  {
   "cell_type": "code",
   "execution_count": 38,
   "metadata": {
    "ExecuteTime": {
     "end_time": "2019-09-29T02:56:14.320023Z",
     "start_time": "2019-09-29T02:56:14.310666Z"
    }
   },
   "outputs": [
    {
     "data": {
      "text/plain": [
       "'gt2dhvr0r5mblp2cckdlho99v3'"
      ]
     },
     "execution_count": 38,
     "metadata": {},
     "output_type": "execute_result"
    }
   ],
   "source": [
    "cookies['MoodleSession']\n"
   ]
  },
  {
   "cell_type": "code",
   "execution_count": 39,
   "metadata": {
    "ExecuteTime": {
     "end_time": "2019-09-29T02:56:16.904443Z",
     "start_time": "2019-09-29T02:56:16.247850Z"
    }
   },
   "outputs": [
    {
     "data": {
      "text/plain": [
       "'89.00'"
      ]
     },
     "execution_count": 39,
     "metadata": {},
     "output_type": "execute_result"
    }
   ],
   "source": [
    "#進入編輯試卷\n",
    "r = rs.get('http://ido.khjh.hc.edu.tw/moodle/course/modedit.php?update=5827&return=1')\n",
    "\n",
    "\n",
    "soup=BeautifulSoup(r.text,\"html.parser\")\n",
    "value = soup.find('input', {'name': 'gradepass'}).get('value')\n",
    "value"
   ]
  },
  {
   "cell_type": "code",
   "execution_count": 40,
   "metadata": {
    "ExecuteTime": {
     "end_time": "2019-09-29T02:56:18.039272Z",
     "start_time": "2019-09-29T02:56:17.901920Z"
    }
   },
   "outputs": [
    {
     "name": "stdout",
     "output_type": "stream",
     "text": [
      "NeZgJkMl4d\n",
      "344326922\n",
      "895733217\n"
     ]
    }
   ],
   "source": [
    "#match = re.search('sesskey\":\"(\\w+)\"', r.text) \n",
    "#sesskey = match.group(1)\n",
    "\n",
    "\n",
    "soup=BeautifulSoup(r.text, \"html.parser\")\n",
    "\n",
    "sesskey = soup.find('input', {'name': 'sesskey'}).get('value')\n",
    "print(sesskey)\n",
    "\n",
    "\n",
    "introeditoritemid = soup.find('input', {'name': 'introeditor[itemid]'}).get('value')\n",
    "print(introeditoritemid)\n",
    "\n",
    "feedbacktext0itemid = soup.find('input', {'name': 'feedbacktext[0][itemid]'}).get('value')\n",
    "print(feedbacktext0itemid)"
   ]
  },
  {
   "cell_type": "code",
   "execution_count": 63,
   "metadata": {
    "ExecuteTime": {
     "end_time": "2019-09-29T03:59:16.382275Z",
     "start_time": "2019-09-29T03:59:15.668122Z"
    }
   },
   "outputs": [
    {
     "name": "stdout",
     "output_type": "stream",
     "text": [
      "200\n"
     ]
    },
    {
     "data": {
      "text/plain": [
       "'89.00'"
      ]
     },
     "execution_count": 63,
     "metadata": {},
     "output_type": "execute_result"
    }
   ],
   "source": [
    "gradepass = 60;\n",
    "json={\n",
    "'grade':'100',\n",
    "'boundary_repeats':'0',\n",
    "'completionunlocked':'0',\n",
    "'course':'73',\n",
    "'coursemodule':'5827',\n",
    "'section':'1',\n",
    "'module':'16',\n",
    "'modulename':'quiz',\n",
    "'instance':'1835',\n",
    "'add':'0',\n",
    "'update':'5827',\n",
    "'return':'1',\n",
    "'sr':'0',\n",
    "'sesskey':sesskey,\n",
    "'_qf__mod_quiz_mod_form':'1',\n",
    "'mform_showmore_id_layouthdr':'0',\n",
    "'mform_showmore_id_interactionhdr':'0',\n",
    "'mform_showmore_id_display':'0',\n",
    "'mform_showmore_id_security':'0',\n",
    "'mform_isexpanded_id_general':'1',\n",
    "'mform_isexpanded_id_timing':'0',\n",
    "'mform_isexpanded_id_modstandardgrade':'0',\n",
    "'mform_isexpanded_id_layouthdr':'0',\n",
    "'mform_isexpanded_id_interactionhdr':'0',\n",
    "'mform_isexpanded_id_reviewoptionshdr':'0',\n",
    "'mform_isexpanded_id_display':'0',\n",
    "'mform_isexpanded_id_security':'0',\n",
    "'mform_isexpanded_id_overallfeedbackhdr':'0',\n",
    "'mform_isexpanded_id_modstandardelshdr':'0',\n",
    "'mform_isexpanded_id_availabilityconditionsheader':'0',\n",
    "'mform_isexpanded_id_activitycompletionheader':'0',\n",
    "'mform_isexpanded_id_tagshdr':'0',\n",
    "'mform_isexpanded_id_competenciessection':'0',\n",
    "'name':'%E8%A7%A3%E5%89%96%E9%A1%AF%E5%BE%AE%E9%8F%A1%E6%A7%8B%E9%80%A0%E5%A1%AB%E5%9C%96',\n",
    "'introeditor%5Btext%5D':'',\n",
    "'introeditor%5Bformat%5D':'1',\n",
    "'introeditor%5Bitemid%5D':introeditoritemid,\n",
    "'overduehandling':'autoabandon',\n",
    "'gradecat':'257',\n",
    "'gradepass':gradepass,\n",
    "'attempts':'4',\n",
    "'grademethod':'1',\n",
    "'questionsperpage':'1',\n",
    "'navmethod':'free',\n",
    "'shuffleanswers':'1',\n",
    "'preferredbehaviour':'interactive',\n",
    "'canredoquestions':'0',\n",
    "'attemptonlast':'0',\n",
    "'attemptimmediately':'1',\n",
    "'correctnessimmediately':'1',\n",
    "'marksimmediately':'1',\n",
    "'specificfeedbackimmediately':'1',\n",
    "'generalfeedbackimmediately':'1',\n",
    "'rightanswerimmediately':'1',\n",
    "'overallfeedbackimmediately':'1',\n",
    "'attemptopen':'1',\n",
    "'correctnessopen':'1',\n",
    "'marksopen':'1',\n",
    "'specificfeedbackopen':'1',\n",
    "'generalfeedbackopen':'1',\n",
    "'rightansweropen':'1',\n",
    "'overallfeedbackopen':'1',\n",
    "'attemptclosed':'1',\n",
    "'correctnessclosed':'1',\n",
    "'marksclosed':'1',\n",
    "'specificfeedbackclosed':'1',\n",
    "'generalfeedbackclosed':'1',\n",
    "'rightanswerclosed':'1',\n",
    "'overallfeedbackclosed':'1',\n",
    "'showuserpicture':'0',\n",
    "'decimalpoints':'1',\n",
    "'questiondecimalpoints':'-1',\n",
    "'showblocks':'0',\n",
    "'quizpassword':'',\n",
    "'subnet':'',\n",
    "'browsersecurity':'-',\n",
    "'allowofflineattempts':'0',\n",
    "'feedbacktext%5B0%5D%5Btext%5D':'',\n",
    "'feedbacktext%5B0%5D%5Bformat%5D':'1',\n",
    "'feedbacktext%5B0%5D%5Bitemid%5D':feedbacktext0itemid,\n",
    "'visible':'1',\n",
    "'cmidnumber':'',\n",
    "'groupmode':'2',\n",
    "'groupingid':'0',\n",
    "'availabilityconditionsjson':'%7B%22op%22%3A%22%26%22%2C%22c%22%3A%5B%5D%2C%22showc%22%3A%5B%5D%7D',\n",
    "'completion':'2',\n",
    "'completionusegrade':'1',\n",
    "'tags':'_qf__force_multiselect_submission',\n",
    "'competencies':'_qf__force_multiselect_submission',\n",
    "'competency_rule':'0',\n",
    "'submitbutton2':'%E5%84%B2%E5%AD%98%E4%B8%A6%E8%BF%94%E5%9B%9E%E8%AA%B2%E7%A8%8B',\n",
    "}\n",
    "headers={\n",
    "'Accept':'text/html,application/xhtml+xml,application/xml;q=0.9,image/webp,image/apng,*/*;q=0.8,application/signed-exchange;v=b3',\n",
    "'Accept-Encoding':'gzip, deflate',\n",
    "'Accept-Language':'zh-TW,zh;q=0.9,en-US;q=0.8,en;q=0.7',\n",
    "'Cache-Control':'max-age=0',\n",
    "'Connection':'keep-alive',\n",
    "'Content-Length':'1813',\n",
    "'Content-Type':'application/x-www-form-urlencoded',\n",
    "'Cookie':'MoodleSession='+cookies['MoodleSession'],\n",
    "'Host':'ido.khjh.hc.edu.tw',\n",
    "'Origin':'http://ido.khjh.hc.edu.tw',\n",
    "'Referer':'http://ido.khjh.hc.edu.tw/moodle/course/modedit.php?update=5827&return=1',\n",
    "'Upgrade-Insecure-Requests':'1',\n",
    "'User-Agent':'Mozilla/5.0 (X11; Linux x86_64) AppleWebKit/537.36 (KHTML, like Gecko) Ubuntu Chromium/76.0.3809.100 Chrome/76.0.3809.100 Safari/537.36',\n",
    "}\n",
    "\n",
    "\n",
    "\n",
    "#url = 'http://ido.khjh.hc.edu.tw/moodle/course/modedit.php?update=5827&return=1'\n",
    "#res=rs.post(url,data=payload)\n",
    "#res=rs.post(url,json=data)\n",
    "\n",
    "url = 'http://ido.khjh.hc.edu.tw/moodle/course/modedit.php'\n",
    "params = {'update': '5827', 'return':'1'}\n",
    "#res=rs.post(url, params=params)\n",
    "#res=rs.post(url, params=params, headers=headers,cookies=cookies, json=json)\n",
    "res=rs.post(url, params=params, headers=headers, json=json, allow_redirects=True)\n",
    "\n",
    "\n",
    "print(res.status_code)\n",
    "#print(res.headers['Location'])\n",
    "#print(res.history)\n",
    "soup=BeautifulSoup(res.text, \"html.parser\")\n",
    "value = soup.find('input', {'name': 'gradepass'}).get('value')\n",
    "value\n"
   ]
  },
  {
   "cell_type": "code",
   "execution_count": 42,
   "metadata": {
    "ExecuteTime": {
     "end_time": "2019-09-29T02:56:26.642495Z",
     "start_time": "2019-09-29T02:56:26.509382Z"
    }
   },
   "outputs": [
    {
     "data": {
      "text/plain": [
       "'89.00'"
      ]
     },
     "execution_count": 42,
     "metadata": {},
     "output_type": "execute_result"
    }
   ],
   "source": [
    "soup=BeautifulSoup(res.text, \"html.parser\")\n",
    "value = soup.find('input', {'name': 'gradepass'}).get('value')\n",
    "value"
   ]
  },
  {
   "cell_type": "code",
   "execution_count": null,
   "metadata": {},
   "outputs": [],
   "source": []
  },
  {
   "cell_type": "code",
   "execution_count": 82,
   "metadata": {},
   "outputs": [
    {
     "data": {
      "text/plain": [
       "[<select id=\"id_attempts\" name=\"attempts\">\n",
       " <option value=\"0\">無限制</option>\n",
       " <option value=\"1\">1</option>\n",
       " <option value=\"2\">2</option>\n",
       " <option selected=\"selected\" value=\"3\">3</option>\n",
       " <option value=\"4\">4</option>\n",
       " <option value=\"5\">5</option>\n",
       " <option value=\"6\">6</option>\n",
       " <option value=\"7\">7</option>\n",
       " <option value=\"8\">8</option>\n",
       " <option value=\"9\">9</option>\n",
       " <option value=\"10\">10</option>\n",
       " </select>]"
      ]
     },
     "execution_count": 82,
     "metadata": {},
     "output_type": "execute_result"
    }
   ],
   "source": [
    "attempts = soup.select('#id_attempts')\n",
    "attempts"
   ]
  },
  {
   "cell_type": "code",
   "execution_count": null,
   "metadata": {},
   "outputs": [],
   "source": []
  }
 ],
 "metadata": {
  "kernelspec": {
   "display_name": "Python 3",
   "language": "python",
   "name": "python3"
  },
  "language_info": {
   "codemirror_mode": {
    "name": "ipython",
    "version": 3
   },
   "file_extension": ".py",
   "mimetype": "text/x-python",
   "name": "python",
   "nbconvert_exporter": "python",
   "pygments_lexer": "ipython3",
   "version": "3.7.3"
  }
 },
 "nbformat": 4,
 "nbformat_minor": 2
}
