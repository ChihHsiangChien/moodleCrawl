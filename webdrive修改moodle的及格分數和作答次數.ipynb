{
 "cells": [
  {
   "cell_type": "code",
   "execution_count": null,
   "metadata": {
    "ExecuteTime": {
     "end_time": "2019-11-03T02:18:57.656985Z",
     "start_time": "2019-11-03T02:18:57.647742Z"
    }
   },
   "outputs": [],
   "source": [
    "from bs4 import BeautifulSoup\n",
    "from selenium import webdriver\n",
    "from selenium.webdriver.support.ui import WebDriverWait\n",
    "from selenium.webdriver.support import expected_conditions\n",
    "from selenium.webdriver.common.by import By\n",
    "import re\n",
    "from selenium.webdriver.firefox.options import Options"
   ]
  },
  {
   "cell_type": "code",
   "execution_count": null,
   "metadata": {
    "ExecuteTime": {
     "end_time": "2019-11-03T02:19:04.129924Z",
     "start_time": "2019-11-03T02:18:58.518827Z"
    }
   },
   "outputs": [],
   "source": [
    "url='http://ido.khjh.hc.edu.tw/moodle/'\n",
    "\n",
    "options = Options()\n",
    "options.headless = True\n",
    "driverPath = '/media/shawn-pc/3T/code/python_moodlePassGrade修改及格分數/geckodriver'\n",
    "driver = webdriver.Firefox(options=options, executable_path=driverPath)\n",
    "#driver = webdriver.Firefox(executable_path=driverPath)\n",
    "\n",
    "#headless模式\n",
    "#options = webdriver.ChromeOptions()\n",
    "#options.add_argument('--headless')\n",
    "#driver = webdriver.Chrome(options=options, executable_path='chromedriver.exe')\n",
    "#driver = webdriver.Chrome(executable_path='chromedriver.exe')\n",
    "\n",
    "driver.set_page_load_timeout(60)\n",
    "driver.get(url)\n"
   ]
  },
  {
   "cell_type": "code",
   "execution_count": null,
   "metadata": {
    "ExecuteTime": {
     "end_time": "2019-11-03T02:02:40.059643Z",
     "start_time": "2019-11-03T02:02:38.834481Z"
    }
   },
   "outputs": [],
   "source": [
    "#登入moodle\n",
    "username = 'username'\n",
    "password = 'password'\n",
    "element = driver.find_element_by_id('login_username')\n",
    "element.send_keys(username)\n",
    "element = driver.find_element_by_id('login_password')\n",
    "element.send_keys(password)\n",
    "\n",
    "driver.find_element_by_css_selector(\".btn-primary\").click()\n"
   ]
  },
  {
   "cell_type": "code",
   "execution_count": null,
   "metadata": {
    "ExecuteTime": {
     "end_time": "2019-11-03T02:02:41.496256Z",
     "start_time": "2019-11-03T02:02:40.462347Z"
    }
   },
   "outputs": [],
   "source": [
    "#進入課程網址"
   ]
  },
  {
   "cell_type": "code",
   "execution_count": null,
   "metadata": {
    "ExecuteTime": {
     "end_time": "2019-11-03T02:16:31.003635Z",
     "start_time": "2019-11-03T02:16:24.084797Z"
    }
   },
   "outputs": [],
   "source": [
    "#取得測驗的連結\n",
    "id = 73\n",
    "courseurl = 'http://ido.khjh.hc.edu.tw/moodle/course/view.php?'\n",
    "quizname=[]\n",
    "quizurl=[]\n",
    "for i in range(5):\n",
    "    url = courseurl + 'id='+str(id) +'&section='+str(i+1)\n",
    "    driver.get(url)\n",
    "    #取得各section原始碼\n",
    "    htmltext = driver.page_source\n",
    "\n",
    "    soup=BeautifulSoup(htmltext,\"html.parser\")\n",
    "    \n",
    "    #搜尋所有含quiz的連結\n",
    "    links = soup.find_all('a',{'href':re.compile('quiz')})\n",
    "    for link in links:\n",
    "\n",
    "        #取得href屬性前先檢查是否存在\n",
    "        if 'href' in link.attrs:\n",
    "            href = link['href']\n",
    "            print(link.text)\n",
    "            print(href)\n",
    "            quizname.append(link.text)\n",
    "            quizurl.append(href)\n",
    "        else:\n",
    "            href = None"
   ]
  },
  {
   "cell_type": "code",
   "execution_count": null,
   "metadata": {
    "ExecuteTime": {
     "end_time": "2019-11-03T02:17:08.668653Z",
     "start_time": "2019-11-03T02:17:08.653446Z"
    }
   },
   "outputs": [],
   "source": [
    "#從url找id\n",
    "quizid=[]\n",
    "for quiz in quizurl:\n",
    "    k = re.search(r'id=(.*)$', quiz)\n",
    "    quizid.append(k.group(1))\n",
    "quizid"
   ]
  },
  {
   "cell_type": "code",
   "execution_count": null,
   "metadata": {
    "ExecuteTime": {
     "end_time": "2019-11-03T02:18:15.422861Z",
     "start_time": "2019-11-03T02:17:45.530709Z"
    }
   },
   "outputs": [],
   "source": [
    "#進入試卷編修網址\n",
    "quizurlBase = 'http://ido.khjh.hc.edu.tw/moodle/course/modedit.php?update='\n",
    "n = 0\n",
    "gradepass = 100  #及格分數\n",
    "attempts = 5      #可測驗次數\n",
    "for i in quizid:\n",
    "    quizurl = quizurlBase+str(i)+'&return=1'\n",
    "    \n",
    "    driver.get(quizurl)\n",
    "\n",
    "    #展開全部\n",
    "    driver.find_element_by_css_selector('.collapseexpand').click()\n",
    "\n",
    "    #修改及格分數\n",
    "    element =  driver.find_element_by_id('id_gradepass')\n",
    "    element.clear()\n",
    "    element.send_keys(gradepass)\n",
    "\n",
    "    #修改允許作答次數\n",
    "    #搜尋作答次數的選單並點擊\n",
    "    element = driver.find_element_by_id('id_attempts')\n",
    "    element.click()\n",
    "    element.send_keys(attempts)\n",
    "\n",
    "    \n",
    "    \n",
    "    #解開完成進度的選項\n",
    "    driver.find_element_by_id('id_unlockcompletion').click()\n",
    "\n",
    "\n",
    "    #儲存並顯示\n",
    "    driver.find_element_by_id('id_submitbutton2').click()\n",
    "    print('done:' + quizname[n])\n",
    "    print(quizurl)\n",
    "    n = n+1\n",
    "    print(str(n)+\"/\"+str(len(quizid)))\n",
    "    print('========')\n"
   ]
  },
  {
   "cell_type": "markdown",
   "metadata": {},
   "source": [
    "## 以下是測試區"
   ]
  },
  {
   "cell_type": "code",
   "execution_count": null,
   "metadata": {},
   "outputs": [],
   "source": [
    "#處理單一連結的測試區\n",
    "\n",
    "#進入試卷編修網址\n",
    "url = 'http://ido.khjh.hc.edu.tw/moodle/course/modedit.php?update=5827&return=1'\n",
    "driver.get(url)\n",
    "\n",
    "#element = WebDriverWait(driver,3).until(expected_conditions.presence_of_element_located((By.ID,'id_gradepass')))\n",
    "#element = driver.find_element_by_name('gradepass')\n",
    "\n",
    "#展開全部\n",
    "driver.find_element_by_css_selector('.collapseexpand').click()\n",
    "\n",
    "#修改及格分數\n",
    "element =  driver.find_element_by_id('id_gradepass')\n",
    "element.clear()\n",
    "element.send_keys('100')\n",
    "\n",
    "#修改允許作答次數\n",
    "#搜尋作答次數的選單並點擊\n",
    "element = driver.find_element_by_id('id_attempts')\n",
    "element.click()\n",
    "element.send_keys('7')\n",
    "\n",
    "#for option in driver.find_elements_by_tag_name('option'):\n",
    "    #if option.text == '3':\n",
    "    #    option.click()\n",
    "\n",
    "\n",
    "\n",
    "#解開完成進度的選項\n",
    "driver.find_element_by_id('id_unlockcompletion').click()\n",
    "\n",
    "\n",
    "#儲存並顯示\n",
    "driver.find_element_by_id('id_submitbutton2').click()\n",
    "print('done')\n",
    "#element = driver.find_element_by_xpath('//*[@id=\"id_gradepass\"]')\n",
    "\n",
    "\n",
    "#finally:\n",
    "    #driver.quit()\n"
   ]
  }
 ],
 "metadata": {
  "kernelspec": {
   "display_name": "Python 3",
   "language": "python",
   "name": "python3"
  },
  "language_info": {
   "codemirror_mode": {
    "name": "ipython",
    "version": 3
   },
   "file_extension": ".py",
   "mimetype": "text/x-python",
   "name": "python",
   "nbconvert_exporter": "python",
   "pygments_lexer": "ipython3",
   "version": "3.7.3"
  }
 },
 "nbformat": 4,
 "nbformat_minor": 2
}
