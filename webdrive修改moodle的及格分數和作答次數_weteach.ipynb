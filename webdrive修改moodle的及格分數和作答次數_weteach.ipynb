{
 "cells": [
  {
   "cell_type": "code",
   "execution_count": 2,
   "metadata": {
    "ExecuteTime": {
     "end_time": "2019-11-03T02:18:57.656985Z",
     "start_time": "2019-11-03T02:18:57.647742Z"
    }
   },
   "outputs": [],
   "source": [
    "from bs4 import BeautifulSoup\n",
    "from selenium import webdriver\n",
    "from selenium.webdriver.support.ui import WebDriverWait\n",
    "from selenium.webdriver.support import expected_conditions\n",
    "from selenium.webdriver.common.by import By\n",
    "import re\n",
    "from selenium.webdriver.firefox.options import Options\n",
    "from selenium.webdriver.support.ui import Select\n"
   ]
  },
  {
   "cell_type": "code",
   "execution_count": 4,
   "metadata": {
    "ExecuteTime": {
     "end_time": "2019-11-03T02:19:04.129924Z",
     "start_time": "2019-11-03T02:18:58.518827Z"
    }
   },
   "outputs": [],
   "source": [
    "url='https://weteach.edu.tw/my/'\n",
    "\n",
    "options = Options()\n",
    "options.headless = False\n",
    "driverPath = r'/media/pancala/3T/code/moodleCrawl/geckodriver'\n",
    "#driverPath = r'C:\\Users\\user\\Documents\\GitHub\\moodleCrawl\\geckodriver.exe'\n",
    "driver = webdriver.Firefox(options=options, executable_path=driverPath)\n",
    "#driver = webdriver.Firefox(executable_path=driverPath)\n",
    "\n",
    "#headless模式\n",
    "#options = webdriver.ChromeOptions()\n",
    "#options.add_argument('--headless')\n",
    "#driver = webdriver.Chrome(options=options, executable_path='chromedriver.exe')\n",
    "#driver = webdriver.Chrome(executable_path='chromedriver.exe')\n",
    "\n",
    "driver.set_page_load_timeout(60)\n",
    "driver.get(url)\n"
   ]
  },
  {
   "cell_type": "code",
   "execution_count": null,
   "metadata": {
    "ExecuteTime": {
     "end_time": "2019-11-03T02:02:40.059643Z",
     "start_time": "2019-11-03T02:02:38.834481Z"
    }
   },
   "outputs": [],
   "source": [
    "#登入moodle\n",
    "username = 'username'\n",
    "password = 'password'\n",
    "element = driver.find_element_by_id('login_username')\n",
    "element.send_keys(username)\n",
    "element = driver.find_element_by_id('login_password')\n",
    "element.send_keys(password)\n",
    "\n",
    "driver.find_element_by_css_selector(\".btn-primary\").click()\n"
   ]
  },
  {
   "cell_type": "code",
   "execution_count": null,
   "metadata": {
    "ExecuteTime": {
     "end_time": "2019-11-03T02:02:41.496256Z",
     "start_time": "2019-11-03T02:02:40.462347Z"
    }
   },
   "outputs": [],
   "source": [
    "#進入課程網址"
   ]
  },
  {
   "cell_type": "code",
   "execution_count": 9,
   "metadata": {
    "ExecuteTime": {
     "end_time": "2019-11-03T02:16:31.003635Z",
     "start_time": "2019-11-03T02:16:24.084797Z"
    }
   },
   "outputs": [
    {
     "name": "stdout",
     "output_type": "stream",
     "text": [
      "細胞分裂 測驗卷\n",
      "https://weteach.edu.tw/mod/quiz/view.php?id=43687\n",
      "同源染色體 測驗卷\n",
      "https://weteach.edu.tw/mod/quiz/view.php?id=43688\n",
      "減數分裂 測驗卷\n",
      "https://weteach.edu.tw/mod/quiz/view.php?id=43689\n",
      "減數分裂-排序填圖題 測驗卷\n",
      "https://weteach.edu.tw/mod/quiz/view.php?id=43690\n",
      "減數分裂-子細胞染色體判斷 測驗卷\n",
      "https://weteach.edu.tw/mod/quiz/view.php?id=43691\n",
      "無性生殖 測驗卷\n",
      "https://weteach.edu.tw/mod/quiz/view.php?id=43693\n",
      "動物的有性生殖 測驗卷\n",
      "https://weteach.edu.tw/mod/quiz/view.php?id=43699\n",
      "人類的有性生殖 測驗卷\n",
      "https://weteach.edu.tw/mod/quiz/view.php?id=43700\n",
      "蛋的觀察 測驗卷\n",
      "https://weteach.edu.tw/mod/quiz/view.php?id=43701\n",
      "植物的有性生殖 測驗卷\n",
      "https://weteach.edu.tw/mod/quiz/view.php?id=43702\n",
      "遺傳的計算題 測驗卷\n",
      "https://weteach.edu.tw/mod/quiz/view.php?id=43727\n",
      "孟德爾的遺傳法則 測驗卷\n",
      "https://weteach.edu.tw/mod/quiz/view.php?id=43728\n",
      "性染色體 測驗卷\n",
      "https://weteach.edu.tw/mod/quiz/view.php?id=43739\n",
      "決定性別的機率 測驗卷\n",
      "https://weteach.edu.tw/mod/quiz/view.php?id=43740\n",
      "血型的遺傳 測驗卷\n",
      "https://weteach.edu.tw/mod/quiz/view.php?id=43741\n",
      "突變 測驗卷\n",
      "https://weteach.edu.tw/mod/quiz/view.php?id=43746\n",
      "人類的遺傳疾病 測驗卷\n",
      "https://weteach.edu.tw/mod/quiz/view.php?id=43747\n",
      "基因轉殖 測驗卷\n",
      "https://weteach.edu.tw/mod/quiz/view.php?id=43751\n",
      "複製技術 測驗卷\n",
      "https://weteach.edu.tw/mod/quiz/view.php?id=43752\n"
     ]
    }
   ],
   "source": [
    "#取得測驗的連結\n",
    "id = 1735\n",
    "#https://weteach.edu.tw/course/view.php?id=1735\n",
    "courseurl = 'http://weteach.edu.tw/course/view.php?'\n",
    "quizname=[]\n",
    "quizurl=[]\n",
    "for i in range(9):\n",
    "    url = courseurl + 'id='+str(id) +'&section='+str(i+1)\n",
    "    driver.get(url)\n",
    "    #取得各section原始碼\n",
    "    htmltext = driver.page_source\n",
    "\n",
    "    soup=BeautifulSoup(htmltext,\"html.parser\")\n",
    "    \n",
    "    #搜尋所有含quiz的連結\n",
    "    links = soup.find_all('a',{'href':re.compile('quiz')})\n",
    "    for link in links:\n",
    "\n",
    "        #取得href屬性前先檢查是否存在\n",
    "        if 'href' in link.attrs:\n",
    "            href = link['href']\n",
    "            print(link.text)\n",
    "            print(href)\n",
    "            quizname.append(link.text)\n",
    "            quizurl.append(href)\n",
    "        else:\n",
    "            href = None"
   ]
  },
  {
   "cell_type": "code",
   "execution_count": 10,
   "metadata": {
    "ExecuteTime": {
     "end_time": "2019-11-03T02:17:08.668653Z",
     "start_time": "2019-11-03T02:17:08.653446Z"
    }
   },
   "outputs": [
    {
     "data": {
      "text/plain": [
       "['43687',\n",
       " '43688',\n",
       " '43689',\n",
       " '43690',\n",
       " '43691',\n",
       " '43693',\n",
       " '43699',\n",
       " '43700',\n",
       " '43701',\n",
       " '43702',\n",
       " '43727',\n",
       " '43728',\n",
       " '43739',\n",
       " '43740',\n",
       " '43741',\n",
       " '43746',\n",
       " '43747',\n",
       " '43751',\n",
       " '43752']"
      ]
     },
     "execution_count": 10,
     "metadata": {},
     "output_type": "execute_result"
    }
   ],
   "source": [
    "#從url找id\n",
    "quizid=[]\n",
    "for quiz in quizurl:\n",
    "    k = re.search(r'id=(.*)$', quiz)\n",
    "    quizid.append(k.group(1))\n",
    "quizid"
   ]
  },
  {
   "cell_type": "code",
   "execution_count": 11,
   "metadata": {
    "ExecuteTime": {
     "end_time": "2019-11-03T02:18:15.422861Z",
     "start_time": "2019-11-03T02:17:45.530709Z"
    }
   },
   "outputs": [
    {
     "name": "stdout",
     "output_type": "stream",
     "text": [
      "checked-->unchecked\n",
      "done:細胞分裂 測驗卷\n",
      "https://weteach.edu.tw/course/modedit.php?update=43687&return=1\n",
      "1/19\n",
      "========\n",
      "checked-->unchecked\n",
      "done:同源染色體 測驗卷\n",
      "https://weteach.edu.tw/course/modedit.php?update=43688&return=1\n",
      "2/19\n",
      "========\n",
      "checked-->unchecked\n",
      "done:減數分裂 測驗卷\n",
      "https://weteach.edu.tw/course/modedit.php?update=43689&return=1\n",
      "3/19\n",
      "========\n",
      "checked-->unchecked\n",
      "done:減數分裂-排序填圖題 測驗卷\n",
      "https://weteach.edu.tw/course/modedit.php?update=43690&return=1\n",
      "4/19\n",
      "========\n",
      "checked-->unchecked\n",
      "done:減數分裂-子細胞染色體判斷 測驗卷\n",
      "https://weteach.edu.tw/course/modedit.php?update=43691&return=1\n",
      "5/19\n",
      "========\n",
      "checked-->unchecked\n",
      "done:無性生殖 測驗卷\n",
      "https://weteach.edu.tw/course/modedit.php?update=43693&return=1\n",
      "6/19\n",
      "========\n",
      "checked-->unchecked\n",
      "done:動物的有性生殖 測驗卷\n",
      "https://weteach.edu.tw/course/modedit.php?update=43699&return=1\n",
      "7/19\n",
      "========\n",
      "checked-->unchecked\n",
      "done:人類的有性生殖 測驗卷\n",
      "https://weteach.edu.tw/course/modedit.php?update=43700&return=1\n",
      "8/19\n",
      "========\n",
      "checked-->unchecked\n",
      "done:蛋的觀察 測驗卷\n",
      "https://weteach.edu.tw/course/modedit.php?update=43701&return=1\n",
      "9/19\n",
      "========\n",
      "checked-->unchecked\n",
      "done:植物的有性生殖 測驗卷\n",
      "https://weteach.edu.tw/course/modedit.php?update=43702&return=1\n",
      "10/19\n",
      "========\n",
      "checked-->unchecked\n",
      "done:遺傳的計算題 測驗卷\n",
      "https://weteach.edu.tw/course/modedit.php?update=43727&return=1\n",
      "11/19\n",
      "========\n",
      "checked-->unchecked\n",
      "done:孟德爾的遺傳法則 測驗卷\n",
      "https://weteach.edu.tw/course/modedit.php?update=43728&return=1\n",
      "12/19\n",
      "========\n",
      "unchecked\n",
      "done:性染色體 測驗卷\n",
      "https://weteach.edu.tw/course/modedit.php?update=43739&return=1\n",
      "13/19\n",
      "========\n",
      "unchecked\n",
      "done:決定性別的機率 測驗卷\n",
      "https://weteach.edu.tw/course/modedit.php?update=43740&return=1\n",
      "14/19\n",
      "========\n",
      "unchecked\n",
      "done:血型的遺傳 測驗卷\n",
      "https://weteach.edu.tw/course/modedit.php?update=43741&return=1\n",
      "15/19\n",
      "========\n",
      "checked-->unchecked\n",
      "done:突變 測驗卷\n",
      "https://weteach.edu.tw/course/modedit.php?update=43746&return=1\n",
      "16/19\n",
      "========\n",
      "unchecked\n",
      "done:人類的遺傳疾病 測驗卷\n",
      "https://weteach.edu.tw/course/modedit.php?update=43747&return=1\n",
      "17/19\n",
      "========\n",
      "checked-->unchecked\n",
      "done:基因轉殖 測驗卷\n",
      "https://weteach.edu.tw/course/modedit.php?update=43751&return=1\n",
      "18/19\n",
      "========\n",
      "checked-->unchecked\n",
      "done:複製技術 測驗卷\n",
      "https://weteach.edu.tw/course/modedit.php?update=43752&return=1\n",
      "19/19\n",
      "========\n"
     ]
    }
   ],
   "source": [
    "#進入試卷編修網址\n",
    "                        #https://weteach.edu.tw/course/modedit.php?update=43489&return=0&sr=0\n",
    "quizurlBase = 'https://weteach.edu.tw/course/modedit.php?update='\n",
    "n = 0\n",
    "\n",
    "\n",
    "\n",
    "gradecat = '2072'\n",
    "#2074:A1 2065:A2 2067:A3 2072:B1 2070:B2  2069:B3\n",
    "gradepass = 100  #及格分數\n",
    "attempts = 2    #可測驗次數\n",
    "grademethod = '1' \n",
    "#1:最高分數 2:平均分數 3:第一次作答  4:最後一次作答\n",
    "for i in quizid:\n",
    "    quizurl = quizurlBase+str(i)+'&return=1'\n",
    "    \n",
    "    driver.get(quizurl)\n",
    "\n",
    "    #展開全部\n",
    "    driver.find_element_by_css_selector('.collapseexpand').click()\n",
    "\n",
    "    #修改及格分數\n",
    "    element =  driver.find_element_by_id('id_gradepass')\n",
    "    element.clear()\n",
    "    element.send_keys(gradepass)\n",
    "\n",
    "    \n",
    "    s1 = Select(driver.find_element_by_id('id_gradecat'))\n",
    "    s1.select_by_value(gradecat)\n",
    "   \n",
    "    \n",
    "    #修改允許作答次數\n",
    "    #搜尋作答次數的選單並點擊\n",
    "    element = driver.find_element_by_id('id_attempts')\n",
    "    element.click()\n",
    "    element.send_keys(attempts)\n",
    "    \n",
    "    \n",
    "    #修改評分方式\n",
    "    s1 = Select(driver.find_element_by_id('id_grademethod'))\n",
    "    s1.select_by_value(grademethod)\n",
    "    \n",
    "    \n",
    "    #解開完成進度的選項\n",
    "    #還沒有人作答時，此項須註解。等到有人作答後，才可以找到這個element\n",
    "    #driver.find_element_by_id('id_unlockcompletion').click()\n",
    "      \n",
    "    #檢查是否勾選「需要及格分數」\n",
    "    element = driver.find_element_by_id('id_completionpass')\n",
    "    if element.get_attribute('checked') :\n",
    "        #如果有勾選，就按一下，讓它取消勾選\n",
    "        element.click()\n",
    "        print('checked-->unchecked')\n",
    "    else:\n",
    "        print('unchecked')\n",
    "    \n",
    "    \n",
    "\n",
    "    #儲存並顯示\n",
    "    driver.find_element_by_id('id_submitbutton2').click()\n",
    "    print('done:' + quizname[n])\n",
    "    print(quizurl)\n",
    "    n = n+1\n",
    "    print(str(n)+\"/\"+str(len(quizid)))\n",
    "    print('========')\n"
   ]
  },
  {
   "cell_type": "markdown",
   "metadata": {},
   "source": [
    "## 以下是測試區"
   ]
  },
  {
   "cell_type": "code",
   "execution_count": 28,
   "metadata": {},
   "outputs": [
    {
     "name": "stdout",
     "output_type": "stream",
     "text": [
      "done\n"
     ]
    }
   ],
   "source": [
    "#處理單一連結的測試區\n",
    "\n",
    "#進入試卷編修網址\n",
    "url = 'https://weteach.edu.tw/course/modedit.php?update=43593'\n",
    "driver.get(url)\n",
    "\n",
    "#element = WebDriverWait(driver,3).until(expected_conditions.presence_of_element_located((By.ID,'id_gradepass')))\n",
    "#element = driver.find_element_by_name('gradepass')\n",
    "\n",
    "#展開全部\n",
    "driver.find_element_by_css_selector('.collapseexpand').click()\n",
    "\n",
    "#修改及格分數\n",
    "element =  driver.find_element_by_id('id_gradepass')\n",
    "element.clear()\n",
    "element.send_keys('100')\n",
    "\n",
    "#修改允許作答次數\n",
    "#搜尋作答次數的選單並點擊\n",
    "element = driver.find_element_by_id('id_attempts')\n",
    "element.click()\n",
    "element.send_keys('7')\n",
    "\n",
    "#for option in driver.find_elements_by_tag_name('option'):\n",
    "    #if option.text == '3':\n",
    "    #    option.click()\n",
    "\n",
    "grademethod = '2'\n",
    "#修改評分方式\n",
    "s1 = Select(driver.find_element_by_id('id_grademethod'))\n",
    "s1.select_by_value(grademethod)\n",
    "\n",
    "#element = driver.find_element_by_id('id_grademethod')\n",
    "#element.click()\n",
    "#element.send_keys( grademethod )\n",
    "\n",
    "#解開完成進度的選項\n",
    "driver.find_element_by_id('id_unlockcompletion').click()\n",
    "\n",
    "\n",
    "#儲存並顯示\n",
    "driver.find_element_by_id('id_submitbutton2').click()\n",
    "print('done')\n",
    "#element = driver.find_element_by_xpath('//*[@id=\"id_gradepass\"]')\n",
    "\n",
    "\n",
    "#finally:\n",
    "    #driver.quit()\n"
   ]
  },
  {
   "cell_type": "code",
   "execution_count": 9,
   "metadata": {},
   "outputs": [
    {
     "name": "stdout",
     "output_type": "stream",
     "text": [
      "checked\n"
     ]
    }
   ],
   "source": [
    "#進入試卷編修網址\n",
    "url = 'https://weteach.edu.tw/course/modedit.php?update=43593'\n",
    "driver.get(url)\n",
    "\n",
    "#element = WebDriverWait(driver,3).until(expected_conditions.presence_of_element_located((By.ID,'id_gradepass')))\n",
    "#element = driver.find_element_by_name('gradepass')\n",
    "\n",
    "#展開全部\n",
    "driver.find_element_by_css_selector('.collapseexpand').click()\n",
    "\n",
    "#解開完成進度的選項\n",
    "driver.find_element_by_id('id_unlockcompletion').click()\n",
    "\n",
    "\n",
    "#檢查是否勾選「需要及格分數」\n",
    "element = driver.find_element_by_id('id_completionpass')\n",
    "if element.get_attribute('checked') :\n",
    "    #如果有勾選，就按一下，讓它取消勾選\n",
    "    element.click()\n",
    "    print('checked-->unchecked')\n",
    "else:\n",
    "    print('unchecked')"
   ]
  },
  {
   "cell_type": "code",
   "execution_count": null,
   "metadata": {},
   "outputs": [],
   "source": []
  }
 ],
 "metadata": {
  "kernelspec": {
   "display_name": "Python 3",
   "language": "python",
   "name": "python3"
  },
  "language_info": {
   "codemirror_mode": {
    "name": "ipython",
    "version": 3
   },
   "file_extension": ".py",
   "mimetype": "text/x-python",
   "name": "python",
   "nbconvert_exporter": "python",
   "pygments_lexer": "ipython3",
   "version": "3.8.5"
  }
 },
 "nbformat": 4,
 "nbformat_minor": 2
}
